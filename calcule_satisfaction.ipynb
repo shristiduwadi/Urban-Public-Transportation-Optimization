{
 "cells": [
  {
   "cell_type": "code",
   "execution_count": 2,
   "metadata": {},
   "outputs": [
    {
     "name": "stdout",
     "output_type": "stream",
     "text": [
      "Optimal solution found:\n",
      "Vehicle frequency (f1): 4.0 vehicles/hour\n",
      "Passenger density: 2.0 passengers/m^2\n",
      "Total seats offered: 200.0 seats/hour\n",
      "Occupancy: 100.0%\n",
      "Total vehicles required for 12 hours: 48.0 vehicles\n",
      "Operational cost: $480.0\n",
      "Space per passenger: 12.5 m²/passenger\n",
      "Average waiting time: 15.0 minutes\n",
      "System efficiency: 100.0%\n"
     ]
    }
   ],
   "source": [
    "from ortools.linear_solver import pywraplp\n",
    "\n",
    "def main():\n",
    "    # Given parameters\n",
    "    S_r = 50  # Number of seats per vehicle on route 1\n",
    "    rho_max = 2  # Maximum allowable passenger density (passengers/m^2)\n",
    "    A_r = 25  # Available area per vehicle on route 1 (m^2)\n",
    "    D_1_od = 200  # Passenger demand on route 1 (passengers/hour)\n",
    "    cost_per_vehicle_hour = 10  # Cost per vehicle per hour (example)\n",
    "    operation_period = 12  # Duration of the operation period (hours)\n",
    "\n",
    "    # Create the solver\n",
    "    solver = pywraplp.Solver.CreateSolver('GLOP')\n",
    "\n",
    "    # Decision variable: vehicle frequency (f1)\n",
    "    f1 = solver.NumVar(0, solver.infinity(), 'f1')\n",
    "\n",
    "    # Seat capacity constraint\n",
    "    solver.Add(D_1_od <= S_r * f1, 'Seat capacity')\n",
    "\n",
    "    # Passenger density constraint\n",
    "    solver.Add(D_1_od / A_r <= rho_max * f1, 'Passenger density')\n",
    "\n",
    "    # Objective function: minimize vehicle frequency (f1)\n",
    "    solver.Minimize(f1)\n",
    "\n",
    "    # Solve the problem\n",
    "    status = solver.Solve()\n",
    "\n",
    "    # Display results\n",
    "    if status == pywraplp.Solver.OPTIMAL:\n",
    "        print('Optimal solution found:')\n",
    "        print(f'Vehicle frequency (f1): {f1.solution_value()} vehicles/hour')\n",
    "        print(f'Passenger density: {D_1_od / (A_r * f1.solution_value())} passengers/m^2')\n",
    "        \n",
    "        # Additional calculations\n",
    "        total_seats = S_r * f1.solution_value()\n",
    "        occupancy = (D_1_od / total_seats) * 100\n",
    "        total_vehicles = f1.solution_value() * operation_period\n",
    "        operational_cost = f1.solution_value() * cost_per_vehicle_hour * operation_period\n",
    "        space_per_passenger = A_r / (D_1_od / (A_r * f1.solution_value()))\n",
    "        waiting_time = 60 / f1.solution_value()\n",
    "        efficiency = (D_1_od / total_seats) * 100\n",
    "\n",
    "        print(f'Total seats offered: {total_seats} seats/hour')\n",
    "        print(f'Occupancy: {occupancy}%')\n",
    "        print(f'Total vehicles required for {operation_period} hours: {total_vehicles} vehicles')\n",
    "        print(f'Operational cost: ${operational_cost}')\n",
    "        print(f'Space per passenger: {space_per_passenger} m²/passenger')\n",
    "        print(f'Average waiting time: {waiting_time} minutes')\n",
    "        print(f'System efficiency: {efficiency}%')\n",
    "    else:\n",
    "        print('No optimal solution found.')\n",
    "\n",
    "if __name__ == '__main__':\n",
    "    main()"
   ]
  }
 ],
 "metadata": {
  "kernelspec": {
   "display_name": "Python 3",
   "language": "python",
   "name": "python3"
  },
  "language_info": {
   "codemirror_mode": {
    "name": "ipython",
    "version": 3
   },
   "file_extension": ".py",
   "mimetype": "text/x-python",
   "name": "python",
   "nbconvert_exporter": "python",
   "pygments_lexer": "ipython3",
   "version": "3.12.8"
  }
 },
 "nbformat": 4,
 "nbformat_minor": 2
}
